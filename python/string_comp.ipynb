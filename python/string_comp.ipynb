{
 "cells": [
  {
   "cell_type": "code",
   "execution_count": 1,
   "id": "f22879d4",
   "metadata": {},
   "outputs": [],
   "source": [
    "str1 = \"apple\"\n",
    "str2 = \"apple\""
   ]
  },
  {
   "cell_type": "code",
   "execution_count": 2,
   "id": "dd562f29",
   "metadata": {},
   "outputs": [],
   "source": [
    "def get_apple():\n",
    "    return \"apple\"\n",
    "\n",
    "str3 = get_apple()"
   ]
  },
  {
   "cell_type": "code",
   "execution_count": 3,
   "id": "9014142b",
   "metadata": {},
   "outputs": [
    {
     "name": "stdout",
     "output_type": "stream",
     "text": [
      "The strings are equal.\n"
     ]
    }
   ],
   "source": [
    "if str1 == str2:\n",
    "    print(\"The strings are equal.\")\n",
    "else:\n",
    "    print(\"The strings are not equal.\")"
   ]
  },
  {
   "cell_type": "code",
   "execution_count": 4,
   "id": "57921367",
   "metadata": {},
   "outputs": [
    {
     "name": "stdout",
     "output_type": "stream",
     "text": [
      "Same object\n"
     ]
    }
   ],
   "source": [
    "if str1 is str3:\n",
    "    print(\"Same object\")\n",
    "else:\n",
    "    print(\"Different objects\")"
   ]
  },
  {
   "cell_type": "code",
   "execution_count": null,
   "id": "973a3388",
   "metadata": {},
   "outputs": [],
   "source": [
    "def foo(a, b, c, *args, **kwargs):\n",
    "    print(f\"foo called with a={a}, b={b}, c={c}\")"
   ]
  }
 ],
 "metadata": {
  "kernelspec": {
   "display_name": "ags",
   "language": "python",
   "name": "python3"
  },
  "language_info": {
   "codemirror_mode": {
    "name": "ipython",
    "version": 3
   },
   "file_extension": ".py",
   "mimetype": "text/x-python",
   "name": "python",
   "nbconvert_exporter": "python",
   "pygments_lexer": "ipython3",
   "version": "3.11.11"
  }
 },
 "nbformat": 4,
 "nbformat_minor": 5
}
