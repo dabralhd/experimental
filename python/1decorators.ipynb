{
 "cells": [
  {
   "cell_type": "code",
   "execution_count": 52,
   "metadata": {},
   "outputs": [],
   "source": [
    "from functools import wraps\n",
    "\n",
    "def log_io_1(f):\n",
    "\n",
    "    def wrapper():\n",
    "        '''internal wrapper func description'''\n",
    "        print(f'>')\n",
    "        f()\n",
    "        print(f'<')\n",
    "    return wrapper\n",
    "\n",
    "def log_io_2(f):\n",
    "\n",
    "    @wraps(f)\n",
    "    def wrapper():\n",
    "        '''internal wrapper func description'''\n",
    "        print(f'>>')\n",
    "        f()\n",
    "        print(f'<<')\n",
    "    return wrapper\n",
    "\n",
    "def outer_dec(f):\n",
    "\n",
    "    @wraps(f)\n",
    "    def wrapper():\n",
    "        '''outer wrapper func description'''\n",
    "        print(f'**')\n",
    "        f()\n",
    "        print(f'**')\n",
    "    return wrapper\n"
   ]
  },
  {
   "cell_type": "code",
   "execution_count": 53,
   "metadata": {},
   "outputs": [
    {
     "name": "stdout",
     "output_type": "stream",
     "text": [
      "**\n",
      ">>\n",
      "func\n",
      "\n",
      "<<\n",
      "**\n"
     ]
    }
   ],
   "source": [
    "@outer_dec\n",
    "@log_io_2\n",
    "def func():\n",
    "    '''func description'''\n",
    "    print(f'func')\n",
    "    print()\n",
    "    \n",
    "func()"
   ]
  },
  {
   "cell_type": "code",
   "execution_count": 54,
   "metadata": {},
   "outputs": [
    {
     "name": "stdout",
     "output_type": "stream",
     "text": [
      "**\n",
      ">>\n",
      "func\n",
      "\n",
      "<<\n",
      "**\n"
     ]
    }
   ],
   "source": [
    "func()"
   ]
  },
  {
   "cell_type": "code",
   "execution_count": 55,
   "metadata": {},
   "outputs": [
    {
     "data": {
      "text/plain": [
       "'func'"
      ]
     },
     "execution_count": 55,
     "metadata": {},
     "output_type": "execute_result"
    }
   ],
   "source": [
    "func.__name__"
   ]
  },
  {
   "cell_type": "code",
   "execution_count": 56,
   "metadata": {},
   "outputs": [
    {
     "data": {
      "text/plain": [
       "'func description'"
      ]
     },
     "execution_count": 56,
     "metadata": {},
     "output_type": "execute_result"
    }
   ],
   "source": [
    "func.__doc__"
   ]
  },
  {
   "cell_type": "code",
   "execution_count": 57,
   "metadata": {},
   "outputs": [
    {
     "data": {
      "text/plain": [
       "{}"
      ]
     },
     "execution_count": 57,
     "metadata": {},
     "output_type": "execute_result"
    }
   ],
   "source": [
    "func.__annotations__"
   ]
  },
  {
   "cell_type": "code",
   "execution_count": 58,
   "metadata": {},
   "outputs": [],
   "source": [
    "type EmployeeId = int\n",
    "\n",
    "hd: EmployeeId = 98217"
   ]
  },
  {
   "cell_type": "code",
   "execution_count": 59,
   "metadata": {},
   "outputs": [
    {
     "name": "stdout",
     "output_type": "stream",
     "text": [
      "98219\n"
     ]
    }
   ],
   "source": [
    "x: EmployeeId = 2\n",
    "hd = hd + x\n",
    "print(hd)"
   ]
  }
 ],
 "metadata": {
  "kernelspec": {
   "display_name": "Python 3",
   "language": "python",
   "name": "python3"
  },
  "language_info": {
   "codemirror_mode": {
    "name": "ipython",
    "version": 3
   },
   "file_extension": ".py",
   "mimetype": "text/x-python",
   "name": "python",
   "nbconvert_exporter": "python",
   "pygments_lexer": "ipython3",
   "version": "3.13.1"
  }
 },
 "nbformat": 4,
 "nbformat_minor": 2
}
