{
 "cells": [
  {
   "cell_type": "code",
   "execution_count": 1,
   "metadata": {},
   "outputs": [],
   "source": [
    "import boto3\n",
    "\n",
    "# Let's use Amazon S3\n",
    "s3 = boto3.resource('s3')"
   ]
  },
  {
   "cell_type": "code",
   "execution_count": 4,
   "metadata": {},
   "outputs": [
    {
     "name": "stdout",
     "output_type": "stream",
     "text": [
      "hdsupertestbucket\n"
     ]
    }
   ],
   "source": [
    "# Print out bucket names\n",
    "for bucket in s3.buckets.all():\n",
    "    print(bucket.name)\n",
    "    bucket.\n",
    "   "
   ]
  },
  {
   "cell_type": "code",
   "execution_count": 2,
   "metadata": {},
   "outputs": [
    {
     "ename": "NameError",
     "evalue": "name 's3' is not defined",
     "output_type": "error",
     "traceback": [
      "\u001b[0;31m---------------------------------------------------------------------------\u001b[0m",
      "\u001b[0;31mNameError\u001b[0m                                 Traceback (most recent call last)",
      "Cell \u001b[0;32mIn[2], line 1\u001b[0m\n\u001b[0;32m----> 1\u001b[0m \u001b[38;5;28mdir\u001b[39m(s3\u001b[38;5;241m.\u001b[39mbucket)\n",
      "\u001b[0;31mNameError\u001b[0m: name 's3' is not defined"
     ]
    }
   ],
   "source": []
  },
  {
   "cell_type": "code",
   "execution_count": 3,
   "metadata": {},
   "outputs": [
    {
     "name": "stdout",
     "output_type": "stream",
     "text": [
      "Help on s3.bucketsCollectionManager in module boto3.resources.collection object:\n",
      "\n",
      "class s3.bucketsCollectionManager(CollectionManager)\n",
      " |  s3.bucketsCollectionManager(collection_model, parent, factory, service_context)\n",
      " |  \n",
      " |  Method resolution order:\n",
      " |      s3.bucketsCollectionManager\n",
      " |      CollectionManager\n",
      " |      builtins.object\n",
      " |  \n",
      " |  Methods defined here:\n",
      " |  \n",
      " |  all(self)\n",
      " |      Creates an iterable of all Bucket resources in the collection.\n",
      " |      \n",
      " |      See also: `AWS API Documentation <https://docs.aws.amazon.com/goto/WebAPI/s3-2006-03-01/ListBuckets>`_\n",
      " |      \n",
      " |      \n",
      " |      **Request Syntax**\n",
      " |      \n",
      " |      ::\n",
      " |      \n",
      " |        bucket_iterator = s3.buckets.all()\n",
      " |      :rtype: list(:py:class:`s3.Bucket`)\n",
      " |      :returns: A list of Bucket resources\n",
      " |  \n",
      " |  filter(self, **kwargs)\n",
      " |      Creates an iterable of all Bucket resources in the collection filtered by kwargs passed to method. A Bucket collection will include all resources by default if no filters are provided, and extreme caution should be taken when performing actions on all resources.\n",
      " |      \n",
      " |      See also: `AWS API Documentation <https://docs.aws.amazon.com/goto/WebAPI/s3-2006-03-01/ListBuckets>`_\n",
      " |      \n",
      " |      \n",
      " |      **Request Syntax**\n",
      " |      \n",
      " |      ::\n",
      " |      \n",
      " |        bucket_iterator = s3.buckets.filter()\n",
      " |      :rtype: list(:py:class:`s3.Bucket`)\n",
      " |      :returns: A list of Bucket resources\n",
      " |  \n",
      " |  limit(self, count)\n",
      " |      Creates an iterable up to a specified amount of Bucket resources in the collection.\n",
      " |      \n",
      " |      See also: `AWS API Documentation <https://docs.aws.amazon.com/goto/WebAPI/s3-2006-03-01/ListBuckets>`_\n",
      " |      \n",
      " |      \n",
      " |      **Request Syntax**\n",
      " |      \n",
      " |      ::\n",
      " |      \n",
      " |        bucket_iterator = s3.buckets.limit()\n",
      " |      :rtype: list(:py:class:`s3.Bucket`)\n",
      " |      :returns: A list of Bucket resources\n",
      " |  \n",
      " |  page_size(self, count)\n",
      " |      Creates an iterable of all Bucket resources in the collection, but limits the number of items returned by each service call by the specified amount.\n",
      " |      \n",
      " |      See also: `AWS API Documentation <https://docs.aws.amazon.com/goto/WebAPI/s3-2006-03-01/ListBuckets>`_\n",
      " |      \n",
      " |      \n",
      " |      **Request Syntax**\n",
      " |      \n",
      " |      ::\n",
      " |      \n",
      " |        bucket_iterator = s3.buckets.page_size()\n",
      " |      :rtype: list(:py:class:`s3.Bucket`)\n",
      " |      :returns: A list of Bucket resources\n",
      " |  \n",
      " |  ----------------------------------------------------------------------\n",
      " |  Methods inherited from CollectionManager:\n",
      " |  \n",
      " |  __init__(self, collection_model, parent, factory, service_context)\n",
      " |      Initialize self.  See help(type(self)) for accurate signature.\n",
      " |  \n",
      " |  __repr__(self)\n",
      " |      Return repr(self).\n",
      " |  \n",
      " |  iterator(self, **kwargs)\n",
      " |      Get a resource collection iterator from this manager.\n",
      " |      \n",
      " |      :rtype: :py:class:`ResourceCollection`\n",
      " |      :return: An iterable representing the collection of resources\n",
      " |  \n",
      " |  pages(self)\n",
      " |      A generator which yields pages of resource instances after\n",
      " |      doing the appropriate service operation calls and handling\n",
      " |      any pagination on your behalf. Non-paginated calls will\n",
      " |      return a single page of items.\n",
      " |      \n",
      " |      Page size, item limit, and filter parameters are applied\n",
      " |      if they have previously been set.\n",
      " |      \n",
      " |          >>> bucket = s3.Bucket('boto3')\n",
      " |          >>> for page in bucket.objects.pages():\n",
      " |          ...     for obj in page:\n",
      " |          ...         print(obj.key)\n",
      " |          'key1'\n",
      " |          'key2'\n",
      " |      \n",
      " |      :rtype: list(:py:class:`~boto3.resources.base.ServiceResource`)\n",
      " |      :return: List of resource instances\n",
      " |  \n",
      " |  ----------------------------------------------------------------------\n",
      " |  Data descriptors inherited from CollectionManager:\n",
      " |  \n",
      " |  __dict__\n",
      " |      dictionary for instance variables (if defined)\n",
      " |  \n",
      " |  __weakref__\n",
      " |      list of weak references to the object (if defined)\n",
      "\n"
     ]
    }
   ],
   "source": [
    "help(s3.buckets)"
   ]
  },
  {
   "cell_type": "code",
   "execution_count": null,
   "metadata": {},
   "outputs": [],
   "source": [
    "# s3.download_file('BUCKET_NAME', 'OBJECT_NAME', 'FILE_NAME')\n",
    "BUCKET_NAME = 'hdsupertestbucket'\n",
    "OBJECT_NAME = ''\n",
    "FILE_NAME = ''\n",
    "s3.download_file('BUCKET_NAME', 'OBJECT_NAME', 'FILE_NAME')"
   ]
  }
 ],
 "metadata": {
  "kernelspec": {
   "display_name": "ml_odl",
   "language": "python",
   "name": "python3"
  },
  "language_info": {
   "codemirror_mode": {
    "name": "ipython",
    "version": 3
   },
   "file_extension": ".py",
   "mimetype": "text/x-python",
   "name": "python",
   "nbconvert_exporter": "python",
   "pygments_lexer": "ipython3",
   "version": "3.11.5"
  }
 },
 "nbformat": 4,
 "nbformat_minor": 2
}
