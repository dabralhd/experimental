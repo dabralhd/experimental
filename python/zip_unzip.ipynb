{
 "cells": [
  {
   "cell_type": "code",
   "execution_count": 22,
   "metadata": {},
   "outputs": [],
   "source": [
    "from zipfile import ZipFile\n",
    "import os\n",
    "import logging\n",
    "from requests import get\n",
    "\n",
    "logger = logging.getLogger(__name__)\n",
    "logger.setLevel(logging.DEBUG)\n",
    "\n",
    "def download_from_s3(url, fpath_zip, dir_dest):\n",
    "    '''\n",
    "    url: pre signed aws-s3 url\n",
    "    fname_zip: absolute name of zip file after downloading\n",
    "    dir_dest: directory in which zip contents are to be extracted\n",
    "    '''\n",
    "    try:\n",
    "        logger.debug(f'url: {url},\\n fpath_zip: {fpath_zip},\\n dir_dest: {dir_dest}')\n",
    "        print(f'url: {url},\\n fpath_zip: {fpath_zip},\\n dir_dest: {dir_dest}')\n",
    "        \n",
    "        response = get(url)\n",
    "        logger.debug(f'download_from_s3:  response code: {response.status_code}')\n",
    "        print(f'download_from_s3:  response code: {response.status_code}')\n",
    "\n",
    "        if response.status_code != 200:\n",
    "            logger.debug(f'NOK received while downloading from url {url}')\n",
    "            print(f'NOK received while downloading from url {url}')\n",
    "\n",
    "            #return Response(status=response.status_code) \n",
    "            return -1\n",
    "\n",
    "        with open(fpath_zip, 'wb') as f:\n",
    "            f.write(response.content)\n",
    "        with ZipFile(fpath_zip, 'r') as zip_ref:\n",
    "            zip_ref.extractall(dir_dest)\n",
    "        k_name_workspace_dir = 'workspace'\n",
    "        logger.debug('download_from_s3: zip file extracted successfully')\n",
    "        print('download_from_s3: zip file extracted successfully')\n",
    "\n",
    "        dir_workspace = os.path.join(dir_dest, 'workspace')\n",
    "        logger.debug(f'Removing {fpath_zip} ')\n",
    "        print(f'Removing {fpath_zip} ')\n",
    "\n",
    "        os.remove(fpath_zip)      \n",
    "    except:    \n",
    "        logger.error(f'exception occurred', exc_info=True)       \n",
    "        print(f'exception occurred', exc_info=True)            \n",
    "\n",
    "\n"
   ]
  },
  {
   "cell_type": "code",
   "execution_count": 21,
   "metadata": {},
   "outputs": [
    {
     "name": "stdout",
     "output_type": "stream",
     "text": [
      "url: https://storage.googleapis.com/projectapi_testing/training.zip,\n",
      " fpath_zip: /Users/hemduttdabral/projects/learn/workspace.zip,\n",
      " dir_dest: /Users/hemduttdabral/projects/learn/output\n",
      "download_from_s3:  response code: 200\n",
      "download_from_s3: zip file extracted successfully\n"
     ]
    }
   ],
   "source": [
    "# Example usage:\n",
    "url = 'https://storage.googleapis.com/projectapi_testing/training.zip'\n",
    "fpath_zip = '/Users/hemduttdabral/projects/learn/workspace.zip'\n",
    "dir_dest = '/Users/hemduttdabral/projects/learn'\n",
    "\n",
    "download_from_s3(url, fpath_zip, dir_dest)"
   ]
  },
  {
   "cell_type": "code",
   "execution_count": 1,
   "metadata": {},
   "outputs": [
    {
     "name": "stdout",
     "output_type": "stream",
     "text": [
      "opened zip file in wb mode\n"
     ]
    },
    {
     "ename": "BadZipFile",
     "evalue": "File is not a zip file",
     "output_type": "error",
     "traceback": [
      "\u001b[0;31m---------------------------------------------------------------------------\u001b[0m",
      "\u001b[0;31mBadZipFile\u001b[0m                                Traceback (most recent call last)",
      "Cell \u001b[0;32mIn[1], line 7\u001b[0m\n\u001b[1;32m      5\u001b[0m \u001b[38;5;28;01mwith\u001b[39;00m \u001b[38;5;28mopen\u001b[39m(fpath_zip, \u001b[38;5;124m'\u001b[39m\u001b[38;5;124mwb\u001b[39m\u001b[38;5;124m'\u001b[39m) \u001b[38;5;28;01mas\u001b[39;00m f:\n\u001b[1;32m      6\u001b[0m     \u001b[38;5;28mprint\u001b[39m(\u001b[38;5;124m'\u001b[39m\u001b[38;5;124mopened zip file in wb mode\u001b[39m\u001b[38;5;124m'\u001b[39m)\n\u001b[0;32m----> 7\u001b[0m     \u001b[38;5;28;01mwith\u001b[39;00m ZipFile(fpath_zip, \u001b[38;5;124m'\u001b[39m\u001b[38;5;124mr\u001b[39m\u001b[38;5;124m'\u001b[39m) \u001b[38;5;28;01mas\u001b[39;00m zip_ref:\n\u001b[1;32m      8\u001b[0m         zip_ref\u001b[38;5;241m.\u001b[39mextractall(temp_dir)\n\u001b[1;32m      9\u001b[0m         \u001b[38;5;28mprint\u001b[39m(\u001b[38;5;124mf\u001b[39m\u001b[38;5;124m'\u001b[39m\u001b[38;5;124mzip file extracted successfully to \u001b[39m\u001b[38;5;132;01m{\u001b[39;00mtemp_dir\u001b[38;5;132;01m}\u001b[39;00m\u001b[38;5;124m.\u001b[39m\u001b[38;5;130;01m\\n\u001b[39;00m\u001b[38;5;124m Checking for UCF file OR lsm6dsv16x_mlc.json in the downloaded artifacts.\u001b[39m\u001b[38;5;124m'\u001b[39m)\n",
      "File \u001b[0;32m~/anaconda3/envs/ml_odl/lib/python3.11/zipfile.py:1302\u001b[0m, in \u001b[0;36mZipFile.__init__\u001b[0;34m(self, file, mode, compression, allowZip64, compresslevel, strict_timestamps, metadata_encoding)\u001b[0m\n\u001b[1;32m   1300\u001b[0m \u001b[38;5;28;01mtry\u001b[39;00m:\n\u001b[1;32m   1301\u001b[0m     \u001b[38;5;28;01mif\u001b[39;00m mode \u001b[38;5;241m==\u001b[39m \u001b[38;5;124m'\u001b[39m\u001b[38;5;124mr\u001b[39m\u001b[38;5;124m'\u001b[39m:\n\u001b[0;32m-> 1302\u001b[0m         \u001b[38;5;28mself\u001b[39m\u001b[38;5;241m.\u001b[39m_RealGetContents()\n\u001b[1;32m   1303\u001b[0m     \u001b[38;5;28;01melif\u001b[39;00m mode \u001b[38;5;129;01min\u001b[39;00m (\u001b[38;5;124m'\u001b[39m\u001b[38;5;124mw\u001b[39m\u001b[38;5;124m'\u001b[39m, \u001b[38;5;124m'\u001b[39m\u001b[38;5;124mx\u001b[39m\u001b[38;5;124m'\u001b[39m):\n\u001b[1;32m   1304\u001b[0m         \u001b[38;5;66;03m# set the modified flag so central directory gets written\u001b[39;00m\n\u001b[1;32m   1305\u001b[0m         \u001b[38;5;66;03m# even if no files are added to the archive\u001b[39;00m\n\u001b[1;32m   1306\u001b[0m         \u001b[38;5;28mself\u001b[39m\u001b[38;5;241m.\u001b[39m_didModify \u001b[38;5;241m=\u001b[39m \u001b[38;5;28;01mTrue\u001b[39;00m\n",
      "File \u001b[0;32m~/anaconda3/envs/ml_odl/lib/python3.11/zipfile.py:1369\u001b[0m, in \u001b[0;36mZipFile._RealGetContents\u001b[0;34m(self)\u001b[0m\n\u001b[1;32m   1367\u001b[0m     \u001b[38;5;28;01mraise\u001b[39;00m BadZipFile(\u001b[38;5;124m\"\u001b[39m\u001b[38;5;124mFile is not a zip file\u001b[39m\u001b[38;5;124m\"\u001b[39m)\n\u001b[1;32m   1368\u001b[0m \u001b[38;5;28;01mif\u001b[39;00m \u001b[38;5;129;01mnot\u001b[39;00m endrec:\n\u001b[0;32m-> 1369\u001b[0m     \u001b[38;5;28;01mraise\u001b[39;00m BadZipFile(\u001b[38;5;124m\"\u001b[39m\u001b[38;5;124mFile is not a zip file\u001b[39m\u001b[38;5;124m\"\u001b[39m)\n\u001b[1;32m   1370\u001b[0m \u001b[38;5;28;01mif\u001b[39;00m \u001b[38;5;28mself\u001b[39m\u001b[38;5;241m.\u001b[39mdebug \u001b[38;5;241m>\u001b[39m \u001b[38;5;241m1\u001b[39m:\n\u001b[1;32m   1371\u001b[0m     \u001b[38;5;28mprint\u001b[39m(endrec)\n",
      "\u001b[0;31mBadZipFile\u001b[0m: File is not a zip file"
     ]
    }
   ],
   "source": [
    "from zipfile import ZipFile\n",
    "\n",
    "fpath_zip = '/Users/hemduttdabral/Downloads/workspace.zip'\n",
    "temp_dir = '/Users/hemduttdabral/Downloads/ws_temp'\n",
    "with open(fpath_zip, 'wb') as f:\n",
    "    print('opened zip file in wb mode')\n",
    "    with ZipFile(fpath_zip, 'r') as zip_ref:\n",
    "        zip_ref.extractall(temp_dir)\n",
    "        print(f'zip file extracted successfully to {temp_dir}.\\n Checking for UCF file OR lsm6dsv16x_mlc.json in the downloaded artifacts.')\n",
    "        for name in zip_ref.namelist():\n",
    "            #sensor_config_json_fname = get_sensor_name(user, project_name, model_name) + '_acc' + '.json'\n",
    "            sensor_config_json_fname = 'lsm6dsv16x' + '_acc' + '.json'\n",
    "\n",
    "            print(f'sensor_config_json_fname: {sensor_config_json_fname}')\n",
    "            if name.lower().endswith('ucf') or name.lower().startswith(sensor_config_json_fname):\n",
    "                expert_mode_flag = True\n",
    "                print(f'match found in the downloaded artifacts.\\n setting expert_mode_flag to: {expert_mode_flag}')\n"
   ]
  },
  {
   "cell_type": "code",
   "execution_count": 13,
   "metadata": {},
   "outputs": [
    {
     "name": "stdout",
     "output_type": "stream",
     "text": [
      "response code: 200\n"
     ]
    }
   ],
   "source": [
    "#download file from url\n",
    "from zipfile import ZipFile\n",
    "import os, shutil\n",
    "import requests\n",
    "\n",
    "url = 'https://storage.googleapis.com/projectapi_testing/training.zip'\n",
    "try:\n",
    "    response = response = requests.get(url, stream=True)\n",
    "    print(f'response code: {response.status_code}')\n",
    "    if response.status_code != 200:\n",
    "        print(f'NOK received while downloading from url {url}')                    \n",
    "    with open(fpath_zip, 'wb') as f:\n",
    "        shutil.copyfileobj(response.raw, f)\n",
    "except Exception as e:\n",
    "    print(e, exc_info=True)\n",
    "    #return Response(f'failed to download from url {url}', status=500)"
   ]
  },
  {
   "cell_type": "code",
   "execution_count": 15,
   "metadata": {},
   "outputs": [
    {
     "name": "stdout",
     "output_type": "stream",
     "text": [
      "zip file extracted successfully to /Users/hemduttdabral/Downloads/ws_temp.\n",
      " Checking for UCF file OR lsm6dsv16x_mlc.json in the downloaded artifacts.\n",
      "sensor_config_json_fname: lsm6dsv16x_acc.json\n",
      "sensor_config_json_fname: lsm6dsv16x_acc.json\n",
      "sensor_config_json_fname: lsm6dsv16x_acc.json\n",
      "sensor_config_json_fname: lsm6dsv16x_acc.json\n",
      "match found in the downloaded artifacts.\n",
      " setting expert_mode_flag to: True\n",
      "sensor_config_json_fname: lsm6dsv16x_acc.json\n",
      "sensor_config_json_fname: lsm6dsv16x_acc.json\n",
      "sensor_config_json_fname: lsm6dsv16x_acc.json\n",
      "sensor_config_json_fname: lsm6dsv16x_acc.json\n"
     ]
    }
   ],
   "source": [
    "from zipfile import ZipFile\n",
    "import os\n",
    "fpath_zip = '/Users/hemduttdabral/Downloads/workspace.zip'\n",
    "temp_dir = '/Users/hemduttdabral/Downloads/ws_temp'\n",
    "with ZipFile(fpath_zip, 'r') as zip_ref:\n",
    "    zip_ref.extractall(temp_dir)\n",
    "    os.makedirs(temp_dir, exist_ok=True)\n",
    "    print(f'zip file extracted successfully to {temp_dir}.\\n Checking for UCF file OR lsm6dsv16x_mlc.json in the downloaded artifacts.')\n",
    "    for name in zip_ref.namelist():\n",
    "        #sensor_config_json_fname = get_sensor_name(user, project_name, model_name) + '_acc' + '.json'\n",
    "        sensor_config_json_fname = 'lsm6dsv16x' + '_acc' + '.json'\n",
    "\n",
    "        print(f'sensor_config_json_fname: {sensor_config_json_fname}')\n",
    "        if name.lower().endswith('ucf') or name.lower().startswith(sensor_config_json_fname):\n",
    "            expert_mode_flag = True\n",
    "            print(f'match found in the downloaded artifacts.\\n setting expert_mode_flag to: {expert_mode_flag}')\n"
   ]
  }
 ],
 "metadata": {
  "kernelspec": {
   "display_name": "ml_odl",
   "language": "python",
   "name": "python3"
  },
  "language_info": {
   "codemirror_mode": {
    "name": "ipython",
    "version": 3
   },
   "file_extension": ".py",
   "mimetype": "text/x-python",
   "name": "python",
   "nbconvert_exporter": "python",
   "pygments_lexer": "ipython3",
   "version": "3.11.5"
  }
 },
 "nbformat": 4,
 "nbformat_minor": 2
}
