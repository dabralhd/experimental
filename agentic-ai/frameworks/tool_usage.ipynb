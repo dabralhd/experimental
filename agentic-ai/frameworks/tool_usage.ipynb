{
 "cells": [
  {
   "cell_type": "markdown",
   "id": "0741e0ea",
   "metadata": {},
   "source": [
    "## Tool\n",
    "https://python.langchain.com/docs/concepts/tools/\n",
    "\n",
    "tool can be invoked using invoke() function"
   ]
  },
  {
   "cell_type": "code",
   "execution_count": 14,
   "id": "d4988957",
   "metadata": {},
   "outputs": [],
   "source": [
    "from langchain_core.tools import tool\n",
    "\n",
    "@tool\n",
    "def multiply(a: int, b: int) -> int:\n",
    "   \"\"\"Multiply two numbers.\"\"\"\n",
    "   return a * b"
   ]
  },
  {
   "cell_type": "code",
   "execution_count": 15,
   "id": "5a5aabfd",
   "metadata": {},
   "outputs": [
    {
     "data": {
      "text/plain": [
       "10"
      ]
     },
     "execution_count": 15,
     "metadata": {},
     "output_type": "execute_result"
    }
   ],
   "source": [
    "multiply.invoke({\"a\": 2, \"b\": 5})"
   ]
  },
  {
   "cell_type": "code",
   "execution_count": 17,
   "id": "031d76f6",
   "metadata": {},
   "outputs": [
    {
     "name": "stdout",
     "output_type": "stream",
     "text": [
      "multiply\n",
      "Multiply two numbers.\n",
      "None\n",
      "10\n",
      "10\n",
      "10\n",
      "10\n"
     ]
    }
   ],
   "source": [
    "print(multiply.name)\n",
    "print(multiply.description)\n",
    "print(multiply.metadata)\n",
    "print(multiply.invoke({\"a\": 2, \"b\": 5}))\n",
    "print(multiply.invoke({\"a\": 2, \"b\": 5}, return_direct=True))\n",
    "print(multiply.invoke({\"a\": 2, \"b\": 5}, return_direct=False))\n",
    "print(multiply.invoke({\"a\": 2, \"b\": 5}, return_direct=True, return_only_outputs=True))"
   ]
  }
 ],
 "metadata": {
  "kernelspec": {
   "display_name": "ags",
   "language": "python",
   "name": "python3"
  },
  "language_info": {
   "codemirror_mode": {
    "name": "ipython",
    "version": 3
   },
   "file_extension": ".py",
   "mimetype": "text/x-python",
   "name": "python",
   "nbconvert_exporter": "python",
   "pygments_lexer": "ipython3",
   "version": "3.11.11"
  }
 },
 "nbformat": 4,
 "nbformat_minor": 5
}
