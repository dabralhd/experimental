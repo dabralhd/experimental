{
 "cells": [
  {
   "cell_type": "code",
   "execution_count": 22,
   "metadata": {},
   "outputs": [],
   "source": [
    "from zipfile import ZipFile\n",
    "import os\n",
    "import logging\n",
    "from requests import get\n",
    "\n",
    "logger = logging.getLogger(__name__)\n",
    "logger.setLevel(logging.DEBUG)\n",
    "\n",
    "def download_from_s3(url, fpath_zip, dir_dest):\n",
    "    '''\n",
    "    url: pre signed aws-s3 url\n",
    "    fname_zip: absolute name of zip file after downloading\n",
    "    dir_dest: directory in which zip contents are to be extracted\n",
    "    '''\n",
    "    try:\n",
    "        logger.debug(f'url: {url},\\n fpath_zip: {fpath_zip},\\n dir_dest: {dir_dest}')\n",
    "        print(f'url: {url},\\n fpath_zip: {fpath_zip},\\n dir_dest: {dir_dest}')\n",
    "        \n",
    "        response = get(url)\n",
    "        logger.debug(f'download_from_s3:  response code: {response.status_code}')\n",
    "        print(f'download_from_s3:  response code: {response.status_code}')\n",
    "\n",
    "        if response.status_code != 200:\n",
    "            logger.debug(f'NOK received while downloading from url {url}')\n",
    "            print(f'NOK received while downloading from url {url}')\n",
    "\n",
    "            #return Response(status=response.status_code) \n",
    "            return -1\n",
    "\n",
    "        with open(fpath_zip, 'wb') as f:\n",
    "            f.write(response.content)\n",
    "        with ZipFile(fpath_zip, 'r') as zip_ref:\n",
    "            zip_ref.extractall(dir_dest)\n",
    "        k_name_workspace_dir = 'workspace'\n",
    "        logger.debug('download_from_s3: zip file extracted successfully')\n",
    "        print('download_from_s3: zip file extracted successfully')\n",
    "\n",
    "        dir_workspace = os.path.join(dir_dest, 'workspace')\n",
    "        logger.debug(f'Removing {fpath_zip} ')\n",
    "        print(f'Removing {fpath_zip} ')\n",
    "\n",
    "        os.remove(fpath_zip)      \n",
    "    except:    \n",
    "        logger.error(f'exception occurred', exc_info=True)       \n",
    "        print(f'exception occurred', exc_info=True)            \n",
    "\n",
    "\n"
   ]
  },
  {
   "cell_type": "code",
   "execution_count": 21,
   "metadata": {},
   "outputs": [
    {
     "name": "stdout",
     "output_type": "stream",
     "text": [
      "url: https://storage.googleapis.com/projectapi_testing/training.zip,\n",
      " fpath_zip: /Users/hemduttdabral/projects/learn/workspace.zip,\n",
      " dir_dest: /Users/hemduttdabral/projects/learn/output\n",
      "download_from_s3:  response code: 200\n",
      "download_from_s3: zip file extracted successfully\n"
     ]
    }
   ],
   "source": [
    "# Example usage:\n",
    "url = 'https://storage.googleapis.com/projectapi_testing/training.zip'\n",
    "fpath_zip = '/Users/hemduttdabral/projects/learn/workspace.zip'\n",
    "dir_dest = '/Users/hemduttdabral/projects/learn'\n",
    "\n",
    "download_from_s3(url, fpath_zip, dir_dest)"
   ]
  }
 ],
 "metadata": {
  "kernelspec": {
   "display_name": "ml_odl",
   "language": "python",
   "name": "python3"
  },
  "language_info": {
   "codemirror_mode": {
    "name": "ipython",
    "version": 3
   },
   "file_extension": ".py",
   "mimetype": "text/x-python",
   "name": "python",
   "nbconvert_exporter": "python",
   "pygments_lexer": "ipython3",
   "version": "3.11.5"
  }
 },
 "nbformat": 4,
 "nbformat_minor": 2
}
