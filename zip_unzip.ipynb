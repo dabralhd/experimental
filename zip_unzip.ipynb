{
 "cells": [
  {
   "cell_type": "code",
   "execution_count": 6,
   "metadata": {},
   "outputs": [],
   "source": [
    "from zipfile import ZipFile\n",
    "import os\n",
    "\n",
    "def unzip(zip_file, destination_dir):\n",
    "    with ZipFile(zip_file, 'r') as zip_ref:\n",
    "        zip_ref.extractall(destination_dir)\n",
    "        os.remove(zip_file)\n",
    "\n",
    "\n"
   ]
  },
  {
   "cell_type": "code",
   "execution_count": 3,
   "metadata": {},
   "outputs": [
    {
     "name": "stdout",
     "output_type": "stream",
     "text": [
      "exception occurred\n"
     ]
    }
   ],
   "source": [
    "# Example usage:\n",
    "zip_file = '/Users/hemduttdabral/projects/learn/example.zip'\n",
    "zip_file = '/Users/hemduttdabral/Downloads/workspace.zip'\n",
    "destination_dir = '/Users/hemduttdabral/projects/learn/output'\n",
    "\n",
    "try:\n",
    "    if not os.path.exists(destination_dir):\n",
    "        os.makedirs(destination_dir)\n",
    "\n",
    "    unzip(zip_file, destination_dir)\n",
    "except Exception as e:\n",
    "    print('exception occurred')\n"
   ]
  },
  {
   "cell_type": "code",
   "execution_count": 8,
   "metadata": {},
   "outputs": [
    {
     "name": "stdout",
     "output_type": "stream",
     "text": [
      "total 616\n",
      "drwxr-xr-x   9 hemduttdabral  staff     288 May  8 15:42 \u001b[34m.\u001b[m\u001b[m\n",
      "drwxr-xr-x  22 hemduttdabral  staff     704 Aug 19 12:23 \u001b[34m..\u001b[m\u001b[m\n",
      "-rw-r--r--   1 hemduttdabral  staff   21319 Aug 19 12:14 MLC_configuration.json\n",
      "-rw-r--r--   1 hemduttdabral  staff    2186 Aug 19 12:14 dt.txt\n",
      "-rw-r--r--   1 hemduttdabral  staff  198570 Aug 19 12:14 features.arff\n",
      "-rw-r--r--   1 hemduttdabral  staff    2832 Aug 19 12:14 log.txt\n",
      "-rw-r--r--   1 hemduttdabral  staff    8253 Aug 19 12:14 lsm6dsv16x_mlc.h\n",
      "-rw-r--r--   1 hemduttdabral  staff    2724 Aug 19 12:14 lsm6dsv16x_mlc.ucf\n",
      "-rw-r--r--   1 hemduttdabral  staff     919 Aug 19 12:14 report.json\n"
     ]
    }
   ],
   "source": [
    "!ls -la output"
   ]
  },
  {
   "cell_type": "code",
   "execution_count": 23,
   "metadata": {},
   "outputs": [],
   "source": [
    "top_dir_name = '/Users/hemduttdabral/projects/learn/'\n",
    "subdir_name = 'data-sufficiency'\n",
    "zip_file_name = os.path.join(top_dir_name, 'data-sufficiency.zip')\n",
    "input_folder_name = os.path.join(top_dir_name, 'data-sufficiency')\n",
    "with ZipFile(zip_file_name, 'w') as zf:\n",
    "    for root, dirs, files in os.walk(input_folder_name):\n",
    "        #zf.write(file_name)\n",
    "        for file_name in files:\n",
    "            zf.write(os.path.join(subdir_name, file_name))\n",
    "\n",
    "\n",
    "        "
   ]
  }
 ],
 "metadata": {
  "kernelspec": {
   "display_name": "ml_odl",
   "language": "python",
   "name": "python3"
  },
  "language_info": {
   "codemirror_mode": {
    "name": "ipython",
    "version": 3
   },
   "file_extension": ".py",
   "mimetype": "text/x-python",
   "name": "python",
   "nbconvert_exporter": "python",
   "pygments_lexer": "ipython3",
   "version": "3.11.5"
  }
 },
 "nbformat": 4,
 "nbformat_minor": 2
}
